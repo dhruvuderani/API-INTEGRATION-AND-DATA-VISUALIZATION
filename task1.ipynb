import requests
import pandas as pd
import matplotlib.pyplot as plt
import seaborn as sns

# 🔑 Replace with your actual CoinMarketCap API key
api_key = "f3e37ba9-a01d-400f-81e7-80d6d40ab4a4"

# 📡 CoinMarketCap API endpoint
api_url = "https://pro-api.coinmarketcap.com/v1/cryptocurrency/listings/latest"

# 🧾 Request headers with API key
headers = {
    "Accepts": "application/json",
    "X-CMC_PRO_API_KEY": api_key,
}

# 📥 Fetch data
response = requests.get(api_url, headers=headers)
data = response.json()

# 🧹 Process data
coins = data["data"]
df = pd.DataFrame([{
    "name": coin["name"],
    "symbol": coin["symbol"],
    "priceUsd": coin["quote"]["USD"]["price"],
    "marketCapUsd": coin["quote"]["USD"]["market_cap"],
    "changePercent24Hr": coin["quote"]["USD"]["percent_change_24h"]
} for coin in coins])

# 📋 Print a preview
print(df.head(10))

# 🎨 Plot settings
sns.set(style="whitegrid")

# 📊 Price Plot
plt.figure(figsize=(12, 6))
sns.barplot(data=df.head(10), x='symbol', y='priceUsd', hue='symbol', palette='Blues_d', legend=False)
plt.title("Top 10 Cryptocurrencies by Price (USD)")
plt.xlabel("Symbol")
plt.ylabel("Price (USD)")
plt.tight_layout()
plt.show()

# 📊 Market Cap Plot
plt.figure(figsize=(12, 6))
sns.barplot(data=df.head(10), x='symbol', y='marketCapUsd', hue='symbol', palette='Purples_d', legend=False)
plt.title("Top 10 Cryptocurrencies by Market Cap")
plt.xlabel("Symbol")
plt.ylabel("Market Cap (USD)")
plt.yscale('log')
plt.tight_layout()
plt.show()

# 📉 24h Change Plot
plt.figure(figsize=(12, 6))
sns.barplot(data=df.head(10), x='symbol', y='changePercent24Hr', hue='symbol', palette='coolwarm', legend=False)
plt.axhline(0, color='black', linestyle='--')
plt.title("24h Price Change (%)")
plt.xlabel("Symbol")
plt.ylabel("Change (%)")
plt.tight_layout()
plt.show()
